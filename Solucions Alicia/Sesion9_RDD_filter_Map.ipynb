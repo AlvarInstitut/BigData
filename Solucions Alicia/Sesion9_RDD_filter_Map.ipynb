{
 "cells": [
  {
   "cell_type": "code",
   "execution_count": 3,
   "metadata": {
    "collapsed": false
   },
   "outputs": [],
   "source": [
    "import pyspark\n",
    "from pyspark import SparkContext, SparkConf\n",
    "sc = SparkContext.getOrCreate()"
   ]
  },
  {
   "cell_type": "code",
   "execution_count": 5,
   "metadata": {
    "collapsed": false
   },
   "outputs": [],
   "source": [
    "ciudades = ['Alicante','Elche','Valencia','Madrid','Barcelona','Bilbao','Sevilla']"
   ]
  },
  {
   "cell_type": "code",
   "execution_count": 6,
   "metadata": {
    "collapsed": true
   },
   "outputs": [],
   "source": [
    "RDD = sc.parallelize(ciudades)"
   ]
  },
  {
   "cell_type": "code",
   "execution_count": 8,
   "metadata": {
    "collapsed": false
   },
   "outputs": [
    {
     "data": {
      "text/plain": [
       "ParallelCollectionRDD[0] at parallelize at PythonRDD.scala:423"
      ]
     },
     "execution_count": 8,
     "metadata": {},
     "output_type": "execute_result"
    }
   ],
   "source": [
    "RDD #Vemos que ya tenemos nuestro RDD"
   ]
  },
  {
   "cell_type": "code",
   "execution_count": 7,
   "metadata": {
    "collapsed": false
   },
   "outputs": [
    {
     "data": {
      "text/plain": [
       "['Alicante', 'Elche', 'Valencia', 'Barcelona', 'Sevilla']"
      ]
     },
     "execution_count": 7,
     "metadata": {},
     "output_type": "execute_result"
    }
   ],
   "source": [
    "ciudades_e= RDD.filter(lambda ciudad: ciudad.find('e') > 0 or ciudad.find('E') > 0)\n",
    "ciudades_e.collect()"
   ]
  },
  {
   "cell_type": "code",
   "execution_count": 8,
   "metadata": {
    "collapsed": false
   },
   "outputs": [
    {
     "data": {
      "text/plain": [
       "[('Alicante', 1),\n",
       " ('Elche', 2),\n",
       " ('Valencia', 1),\n",
       " ('Barcelona', 1),\n",
       " ('Sevilla', 1)]"
      ]
     },
     "execution_count": 8,
     "metadata": {},
     "output_type": "execute_result"
    }
   ],
   "source": [
    "def contar_e (ciudad):\n",
    "    indice = 0\n",
    "    count = 0\n",
    "    while indice < len(ciudad):\n",
    "        letra = ciudad[indice]\n",
    "        indice +=1\n",
    "        if letra == 'e' or letra == 'E' :\n",
    "            count += 1\n",
    "    return count\n",
    "    \n",
    "ciudades_e.map(lambda ciudad : (ciudad, contar_e(ciudad))).collect()"
   ]
  },
  {
   "cell_type": "code",
   "execution_count": 28,
   "metadata": {
    "collapsed": false
   },
   "outputs": [
    {
     "data": {
      "text/plain": [
       "['Alicante', 'Valencia', 'Barcelona', 'Sevilla']"
      ]
     },
     "execution_count": 28,
     "metadata": {},
     "output_type": "execute_result"
    }
   ],
   "source": [
    "ciudades_e.filter(lambda ciudad : contar_e(ciudad) == 1).collect()"
   ]
  },
  {
   "cell_type": "code",
   "execution_count": 14,
   "metadata": {
    "collapsed": true
   },
   "outputs": [],
   "source": [
    "ciudades2 =[['Alicante.Elche','Valencia','Madrid.Barcelona','Bilbao.Sevilla'],['Murcia','San Sebastián','Melilla.Merida']]"
   ]
  },
  {
   "cell_type": "code",
   "execution_count": 15,
   "metadata": {
    "collapsed": true
   },
   "outputs": [],
   "source": [
    "RDD2 = sc.parallelize(ciudades2)"
   ]
  },
  {
   "cell_type": "code",
   "execution_count": 29,
   "metadata": {
    "collapsed": false
   },
   "outputs": [],
   "source": [
    "ciudades_aplanadas= RDD2.flatMap(lambda ciudad: ciudad).flatMap(lambda ciudad: ciudad.split('.'))"
   ]
  },
  {
   "cell_type": "code",
   "execution_count": 31,
   "metadata": {
    "collapsed": false
   },
   "outputs": [
    {
     "data": {
      "text/plain": [
       "[('Alicante', 1),\n",
       " ('Elche', 2),\n",
       " ('Valencia', 1),\n",
       " ('Madrid', 0),\n",
       " ('Barcelona', 1),\n",
       " ('Bilbao', 0),\n",
       " ('Sevilla', 1),\n",
       " ('Murcia', 0),\n",
       " ('San Sebastián', 1),\n",
       " ('Melilla', 1),\n",
       " ('Merida', 1)]"
      ]
     },
     "execution_count": 31,
     "metadata": {},
     "output_type": "execute_result"
    }
   ],
   "source": [
    "ciudades_aplanadas.map(lambda ciudad : (ciudad, contar_e(ciudad))).collect()"
   ]
  }
 ],
 "metadata": {
  "anaconda-cloud": {},
  "kernelspec": {
   "display_name": "Python [default]",
   "language": "python",
   "name": "python3"
  },
  "language_info": {
   "codemirror_mode": {
    "name": "ipython",
    "version": 3
   },
   "file_extension": ".py",
   "mimetype": "text/x-python",
   "name": "python",
   "nbconvert_exporter": "python",
   "pygments_lexer": "ipython3",
   "version": "3.5.2"
  }
 },
 "nbformat": 4,
 "nbformat_minor": 4
}
