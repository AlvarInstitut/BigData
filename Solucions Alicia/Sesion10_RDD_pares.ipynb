{
 "cells": [
  {
   "cell_type": "code",
   "execution_count": 3,
   "metadata": {
    "collapsed": false
   },
   "outputs": [],
   "source": [
    "import pyspark\n",
    "from pyspark import SparkContext, SparkConf\n",
    "sc = SparkContext.getOrCreate()"
   ]
  },
  {
   "cell_type": "code",
   "execution_count": 33,
   "metadata": {
    "collapsed": false
   },
   "outputs": [
    {
     "data": {
      "text/plain": [
       "[('Angel', 4),\n",
       " ('Maria', 6),\n",
       " ('Ramon', 8),\n",
       " ('Jorge', 5),\n",
       " ('Susana', 2),\n",
       " ('Anabel', 7),\n",
       " ('Rocio', 4),\n",
       " ('Carlos', 8),\n",
       " ('Triana', 4),\n",
       " ('Andres', 6),\n",
       " ('Fernando', 7),\n",
       " ('Leonardo', 4),\n",
       " ('Oscar', 3),\n",
       " ('Isabel', 7),\n",
       " ('Jose Juan', 3),\n",
       " ('Nicolas', 5),\n",
       " ('Alejandro', 7),\n",
       " ('Rosa', 9)]"
      ]
     },
     "execution_count": 33,
     "metadata": {},
     "output_type": "execute_result"
    }
   ],
   "source": [
    "notas_ingles = sc.textFile('Notas_Ingles.txt')\n",
    "pairs_ingles= notas_ingles.map(lambda x: (x.split(',')[0], int(x.split(',')[1])))\n",
    "pairs_ingles.collect()"
   ]
  },
  {
   "cell_type": "code",
   "execution_count": 44,
   "metadata": {
    "collapsed": false
   },
   "outputs": [
    {
     "data": {
      "text/plain": [
       "[('Angel', 6.0),\n",
       " ('Maria', 2.0),\n",
       " ('Ramon', 4.5),\n",
       " ('Jorge', 10.0),\n",
       " ('Susana', 9.0),\n",
       " ('Anabel', 8.0),\n",
       " ('Pedro', 5.0),\n",
       " ('Rocio', 6.0),\n",
       " ('Carlos', 4.0),\n",
       " ('Triana', 3.0),\n",
       " ('Andres', 4.0),\n",
       " ('Fernando', 5.0),\n",
       " ('Leonardo', 1.0),\n",
       " ('Oscar', 7.0),\n",
       " ('Isabel', 8.0),\n",
       " ('Jose Juan', 5.0),\n",
       " ('Nicolas', 2.0),\n",
       " ('Alejandro', 5.0),\n",
       " ('Rosa', 6.0)]"
      ]
     },
     "execution_count": 44,
     "metadata": {},
     "output_type": "execute_result"
    }
   ],
   "source": [
    "notas_mates = sc.textFile('Notas_Mates.txt')\n",
    "pairs_mates= notas_mates.map(lambda x: (x.split(',')[0], float(x.split(',')[1])))\n",
    "pairs_mates.collect()"
   ]
  },
  {
   "cell_type": "code",
   "execution_count": 39,
   "metadata": {
    "collapsed": false
   },
   "outputs": [
    {
     "data": {
      "text/plain": [
       "[('Angel', 9),\n",
       " ('Maria', 3),\n",
       " ('Ramon', 7),\n",
       " ('Jorge', 5),\n",
       " ('Susana', 9),\n",
       " ('Anabel', 2),\n",
       " ('Pedro', 2),\n",
       " ('Rocio', 5),\n",
       " ('Carlos', 4),\n",
       " ('Rocio', 7),\n",
       " ('Triana', 3),\n",
       " ('Andres', 4),\n",
       " ('Fernando', 9),\n",
       " ('Leonardo', 6),\n",
       " ('Oscar', 5),\n",
       " ('Isabel', 8),\n",
       " ('Jose Juan', 3),\n",
       " ('Nicolas', 7),\n",
       " ('Alejandro', 3),\n",
       " ('Rosa', 8)]"
      ]
     },
     "execution_count": 39,
     "metadata": {},
     "output_type": "execute_result"
    }
   ],
   "source": [
    "notas_fisica = sc.textFile('Notas_Fisica.txt')\n",
    "pairs_fisica= notas_fisica.map(lambda x: (x.split(',')[0], int(x.split(',')[1])))\n",
    "pairs_fisica.collect()"
   ]
  },
  {
   "cell_type": "code",
   "execution_count": 45,
   "metadata": {
    "collapsed": false
   },
   "outputs": [
    {
     "data": {
      "text/plain": [
       "[('Angel', 4),\n",
       " ('Maria', 6),\n",
       " ('Ramon', 8),\n",
       " ('Jorge', 5),\n",
       " ('Susana', 2),\n",
       " ('Anabel', 7),\n",
       " ('Rocio', 4),\n",
       " ('Carlos', 8),\n",
       " ('Triana', 4),\n",
       " ('Andres', 6),\n",
       " ('Fernando', 7),\n",
       " ('Leonardo', 4),\n",
       " ('Oscar', 3),\n",
       " ('Isabel', 7),\n",
       " ('Jose Juan', 3),\n",
       " ('Nicolas', 5),\n",
       " ('Alejandro', 7),\n",
       " ('Rosa', 9),\n",
       " ('Angel', 9),\n",
       " ('Maria', 3),\n",
       " ('Ramon', 7),\n",
       " ('Jorge', 5),\n",
       " ('Susana', 9),\n",
       " ('Anabel', 2),\n",
       " ('Pedro', 2),\n",
       " ('Rocio', 5),\n",
       " ('Carlos', 4),\n",
       " ('Rocio', 7),\n",
       " ('Triana', 3),\n",
       " ('Andres', 4),\n",
       " ('Fernando', 9),\n",
       " ('Leonardo', 6),\n",
       " ('Oscar', 5),\n",
       " ('Isabel', 8),\n",
       " ('Jose Juan', 3),\n",
       " ('Nicolas', 7),\n",
       " ('Alejandro', 3),\n",
       " ('Rosa', 8),\n",
       " ('Angel', 6.0),\n",
       " ('Maria', 2.0),\n",
       " ('Ramon', 4.5),\n",
       " ('Jorge', 10.0),\n",
       " ('Susana', 9.0),\n",
       " ('Anabel', 8.0),\n",
       " ('Pedro', 5.0),\n",
       " ('Rocio', 6.0),\n",
       " ('Carlos', 4.0),\n",
       " ('Triana', 3.0),\n",
       " ('Andres', 4.0),\n",
       " ('Fernando', 5.0),\n",
       " ('Leonardo', 1.0),\n",
       " ('Oscar', 7.0),\n",
       " ('Isabel', 8.0),\n",
       " ('Jose Juan', 5.0),\n",
       " ('Nicolas', 2.0),\n",
       " ('Alejandro', 5.0),\n",
       " ('Rosa', 6.0)]"
      ]
     },
     "execution_count": 45,
     "metadata": {},
     "output_type": "execute_result"
    }
   ],
   "source": [
    "rdd_completo = pairs_ingles.union(pairs_fisica).union(pairs_mates)\n",
    "rdd_completo.collect()"
   ]
  },
  {
   "cell_type": "code",
   "execution_count": 46,
   "metadata": {
    "collapsed": false
   },
   "outputs": [
    {
     "data": {
      "text/plain": [
       "[('Fernando', <pyspark.resultiterable.ResultIterable at 0x7f6b06314b38>),\n",
       " ('Angel', <pyspark.resultiterable.ResultIterable at 0x7f6b06314a20>),\n",
       " ('Rocio', <pyspark.resultiterable.ResultIterable at 0x7f6b06314d30>),\n",
       " ('Carlos', <pyspark.resultiterable.ResultIterable at 0x7f6b063148d0>),\n",
       " ('Oscar', <pyspark.resultiterable.ResultIterable at 0x7f6b06314b70>),\n",
       " ('Alejandro', <pyspark.resultiterable.ResultIterable at 0x7f6b06314cf8>),\n",
       " ('Isabel', <pyspark.resultiterable.ResultIterable at 0x7f6b06314668>),\n",
       " ('Nicolas', <pyspark.resultiterable.ResultIterable at 0x7f6b06314c18>),\n",
       " ('Leonardo', <pyspark.resultiterable.ResultIterable at 0x7f6b06314908>),\n",
       " ('Ramon', <pyspark.resultiterable.ResultIterable at 0x7f6b063144a8>),\n",
       " ('Pedro', <pyspark.resultiterable.ResultIterable at 0x7f6b06314c88>),\n",
       " ('Anabel', <pyspark.resultiterable.ResultIterable at 0x7f6b06305240>),\n",
       " ('Jose Juan', <pyspark.resultiterable.ResultIterable at 0x7f6b06305518>),\n",
       " ('Jorge', <pyspark.resultiterable.ResultIterable at 0x7f6b063050f0>),\n",
       " ('Triana', <pyspark.resultiterable.ResultIterable at 0x7f6b06313b00>),\n",
       " ('Susana', <pyspark.resultiterable.ResultIterable at 0x7f6b06305400>),\n",
       " ('Rosa', <pyspark.resultiterable.ResultIterable at 0x7f6b06313ef0>),\n",
       " ('Andres', <pyspark.resultiterable.ResultIterable at 0x7f6b06313c18>),\n",
       " ('Maria', <pyspark.resultiterable.ResultIterable at 0x7f6b06313a90>)]"
      ]
     },
     "execution_count": 46,
     "metadata": {},
     "output_type": "execute_result"
    }
   ],
   "source": [
    "rdd_completo.groupByKey().collect()"
   ]
  },
  {
   "cell_type": "code",
   "execution_count": 47,
   "metadata": {
    "collapsed": false
   },
   "outputs": [
    {
     "data": {
      "text/plain": [
       "[('Fernando', 5.0),\n",
       " ('Angel', 4),\n",
       " ('Rocio', 4),\n",
       " ('Carlos', 4),\n",
       " ('Oscar', 3),\n",
       " ('Alejandro', 3),\n",
       " ('Isabel', 7),\n",
       " ('Nicolas', 2.0),\n",
       " ('Leonardo', 1.0),\n",
       " ('Ramon', 4.5),\n",
       " ('Pedro', 2),\n",
       " ('Anabel', 2),\n",
       " ('Jose Juan', 3),\n",
       " ('Jorge', 5),\n",
       " ('Triana', 3),\n",
       " ('Susana', 2),\n",
       " ('Rosa', 6.0),\n",
       " ('Andres', 4),\n",
       " ('Maria', 2.0)]"
      ]
     },
     "execution_count": 47,
     "metadata": {},
     "output_type": "execute_result"
    }
   ],
   "source": [
    "rdd_completo.reduceByKey(lambda x,y:min(x,y)).collect()"
   ]
  },
  {
   "cell_type": "code",
   "execution_count": 77,
   "metadata": {
    "collapsed": false
   },
   "outputs": [
    {
     "data": {
      "text/plain": [
       "[('Fernando', 7.0),\n",
       " ('Angel', 6.333333333333333),\n",
       " ('Rocio', 7.333333333333333),\n",
       " ('Carlos', 5.333333333333333),\n",
       " ('Oscar', 5.0),\n",
       " ('Alejandro', 5.0),\n",
       " ('Isabel', 7.666666666666667),\n",
       " ('Nicolas', 4.666666666666667),\n",
       " ('Leonardo', 3.6666666666666665),\n",
       " ('Ramon', 6.5),\n",
       " ('Pedro', 2.3333333333333335),\n",
       " ('Anabel', 5.666666666666667),\n",
       " ('Jose Juan', 3.6666666666666665),\n",
       " ('Jorge', 6.666666666666667),\n",
       " ('Triana', 3.3333333333333335),\n",
       " ('Susana', 6.666666666666667),\n",
       " ('Rosa', 7.666666666666667),\n",
       " ('Andres', 4.666666666666667),\n",
       " ('Maria', 3.6666666666666665)]"
      ]
     },
     "execution_count": 77,
     "metadata": {},
     "output_type": "execute_result"
    }
   ],
   "source": [
    "rdd_completo.reduceByKey(add).map(lambda x: (x[0],x[1]/3)).collect()"
   ]
  },
  {
   "cell_type": "code",
   "execution_count": 52,
   "metadata": {
    "collapsed": false
   },
   "outputs": [
    {
     "data": {
      "text/plain": [
       "[('Pedro', 5.0)]"
      ]
     },
     "execution_count": 52,
     "metadata": {},
     "output_type": "execute_result"
    }
   ],
   "source": [
    "pairs_mates.subtractByKey(pairs_ingles).collect()"
   ]
  },
  {
   "cell_type": "code",
   "execution_count": 10,
   "metadata": {
    "collapsed": false
   },
   "outputs": [
    {
     "data": {
      "text/plain": [
       "defaultdict(int,\n",
       "            {'Alejandro': 3,\n",
       "             'Anabel': 3,\n",
       "             'Andres': 3,\n",
       "             'Angel': 3,\n",
       "             'Carlos': 3,\n",
       "             'Fernando': 3,\n",
       "             'Isabel': 3,\n",
       "             'Jorge': 3,\n",
       "             'Jose Juan': 3,\n",
       "             'Leonardo': 3,\n",
       "             'Maria': 3,\n",
       "             'Nicolas': 3,\n",
       "             'Oscar': 3,\n",
       "             'Pedro': 2,\n",
       "             'Ramon': 3,\n",
       "             'Rocio': 4,\n",
       "             'Rosa': 3,\n",
       "             'Susana': 3,\n",
       "             'Triana': 3})"
      ]
     },
     "execution_count": 10,
     "metadata": {},
     "output_type": "execute_result"
    }
   ],
   "source": [
    "rdd_completo.countByKey()"
   ]
  },
  {
   "cell_type": "code",
   "execution_count": 59,
   "metadata": {
    "collapsed": false
   },
   "outputs": [
    {
     "data": {
      "text/plain": [
       "7"
      ]
     },
     "execution_count": 59,
     "metadata": {},
     "output_type": "execute_result"
    }
   ],
   "source": [
    "pairs_ingles.filter(lambda x: x[1]<5).count()"
   ]
  },
  {
   "cell_type": "code",
   "execution_count": 60,
   "metadata": {
    "collapsed": false
   },
   "outputs": [
    {
     "data": {
      "text/plain": [
       "7"
      ]
     },
     "execution_count": 60,
     "metadata": {},
     "output_type": "execute_result"
    }
   ],
   "source": [
    "pairs_mates.filter(lambda x: x[1]<5).count()"
   ]
  },
  {
   "cell_type": "code",
   "execution_count": 61,
   "metadata": {
    "collapsed": false
   },
   "outputs": [
    {
     "data": {
      "text/plain": [
       "8"
      ]
     },
     "execution_count": 61,
     "metadata": {},
     "output_type": "execute_result"
    }
   ],
   "source": [
    "pairs_fisica.filter(lambda x: x[1]<5).count()"
   ]
  },
  {
   "cell_type": "code",
   "execution_count": 63,
   "metadata": {
    "collapsed": false
   },
   "outputs": [
    {
     "data": {
      "text/plain": [
       "defaultdict(int,\n",
       "            {'Alejandro': 1,\n",
       "             'Anabel': 2,\n",
       "             'Angel': 1,\n",
       "             'Carlos': 1,\n",
       "             'Fernando': 2,\n",
       "             'Isabel': 3,\n",
       "             'Jorge': 1,\n",
       "             'Nicolas': 1,\n",
       "             'Oscar': 1,\n",
       "             'Ramon': 2,\n",
       "             'Rocio': 1,\n",
       "             'Rosa': 2,\n",
       "             'Susana': 2})"
      ]
     },
     "execution_count": 63,
     "metadata": {},
     "output_type": "execute_result"
    }
   ],
   "source": [
    "rdd_completo.filter(lambda x: x[1]>=7).countByKey()"
   ]
  },
  {
   "cell_type": "code",
   "execution_count": null,
   "metadata": {
    "collapsed": true
   },
   "outputs": [],
   "source": []
  }
 ],
 "metadata": {
  "anaconda-cloud": {},
  "kernelspec": {
   "display_name": "Python [default]",
   "language": "python",
   "name": "python3"
  },
  "language_info": {
   "codemirror_mode": {
    "name": "ipython",
    "version": 3
   },
   "file_extension": ".py",
   "mimetype": "text/x-python",
   "name": "python",
   "nbconvert_exporter": "python",
   "pygments_lexer": "ipython3",
   "version": "3.5.2"
  }
 },
 "nbformat": 4,
 "nbformat_minor": 1
}
