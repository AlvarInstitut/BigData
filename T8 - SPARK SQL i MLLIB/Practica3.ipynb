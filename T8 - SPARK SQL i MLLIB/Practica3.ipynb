{
 "cells": [
  {
   "cell_type": "code",
   "execution_count": 1,
   "metadata": {},
   "outputs": [],
   "source": [
    "#Inicializacion de spark session y creacion de nuestra instancia\n",
    "import pyspark\n",
    "from pyspark.sql import SparkSession\n",
    "spark = SparkSession.builder.appName('sesion3').getOrCreate()"
   ]
  },
  {
   "cell_type": "code",
   "execution_count": null,
   "metadata": {},
   "outputs": [],
   "source": []
  },
  {
   "cell_type": "code",
   "execution_count": 2,
   "metadata": {},
   "outputs": [],
   "source": [
    "empleats = [(1,\"Jaime\",-1,\"2018\",\"10\",\"M\",1300), \\\n",
    "    (2,\"Maria\",1,\"2010\",\"20\",\"F\",1400), \\\n",
    "    (3,\"Rosa\",1,\"2010\",\"10\",\"F\",1000), \\\n",
    "    (4,\"Vanesa\",2,None,\"10\",\"F\",1800), \\\n",
    "    (5,\"Leonardo\",2,\"2010\",\"40\",\"M\",1300), \\\n",
    "      (6,\"Paula\",2,\"2013\",\"20\",\"F\",1600), \\\n",
    "    (7,\"Jose Luis\",2,\"2014\",\"30\",\"F\",1200) \\\n",
    "  ]\n",
    "departaments = [(\"Financiero\",10),(\"Marketing\",20),(\"Ventas\",30),(\"Desarrollo\",40)]"
   ]
  },
  {
   "cell_type": "code",
   "execution_count": 3,
   "metadata": {},
   "outputs": [],
   "source": [
    "from pyspark.sql.types import StructField,StructType,IntegerType,StringType,FloatType\n",
    "\n",
    "est_emp = StructType([StructField('emp_id',IntegerType(),False),\n",
    "              StructField('nom',StringType(),True),\n",
    "              StructField('superior_emp_id',IntegerType(),True),\n",
    "              StructField('data_i',StringType(),True),\n",
    "              StructField('dept_id',StringType(),True),\n",
    "              StructField('genere',StringType(),True),\n",
    "              StructField('sou',IntegerType(),True)\n",
    "             ])\n",
    "est_dep = StructType([StructField('dept_nom',StringType(),False),\n",
    "              StructField('dept_id',IntegerType(),False)\n",
    "          ])\n"
   ]
  },
  {
   "cell_type": "code",
   "execution_count": 4,
   "metadata": {},
   "outputs": [],
   "source": [
    "df_emp = spark.createDataFrame(empleats,schema=est_emp)\n",
    "df_dep = spark.createDataFrame(departaments,schema=est_dep)"
   ]
  },
  {
   "cell_type": "code",
   "execution_count": 5,
   "metadata": {},
   "outputs": [
    {
     "name": "stdout",
     "output_type": "stream",
     "text": [
      "+----------+-------+\n",
      "|  dept_nom|dept_id|\n",
      "+----------+-------+\n",
      "|Financiero|     10|\n",
      "| Marketing|     20|\n",
      "|    Ventas|     30|\n",
      "|Desarrollo|     40|\n",
      "+----------+-------+\n",
      "\n"
     ]
    }
   ],
   "source": [
    "df_dep.show()"
   ]
  },
  {
   "cell_type": "code",
   "execution_count": 6,
   "metadata": {},
   "outputs": [
    {
     "name": "stdout",
     "output_type": "stream",
     "text": [
      "+------+---------+---------------+------+-------+------+----+\n",
      "|emp_id|      nom|superior_emp_id|data_i|dept_id|genere| sou|\n",
      "+------+---------+---------------+------+-------+------+----+\n",
      "|     1|    Jaime|             -1|  2018|     10|     M|1300|\n",
      "|     2|    Maria|              1|  2010|     20|     F|1400|\n",
      "|     3|     Rosa|              1|  2010|     10|     F|1000|\n",
      "|     4|   Vanesa|              2|  null|     10|     F|1800|\n",
      "|     5| Leonardo|              2|  2010|     40|     M|1300|\n",
      "|     6|    Paula|              2|  2013|     20|     F|1600|\n",
      "|     7|Jose Luis|              2|  2014|     30|     F|1200|\n",
      "+------+---------+---------------+------+-------+------+----+\n",
      "\n"
     ]
    }
   ],
   "source": [
    "df_emp.show()"
   ]
  },
  {
   "cell_type": "code",
   "execution_count": 19,
   "metadata": {
    "scrolled": true
   },
   "outputs": [
    {
     "name": "stdout",
     "output_type": "stream",
     "text": [
      "+-------+------------------+\n",
      "|dept_id|          avg(sou)|\n",
      "+-------+------------------+\n",
      "|     10|1366.6666666666667|\n",
      "|     20|            1500.0|\n",
      "|     30|            1200.0|\n",
      "|     40|            1300.0|\n",
      "+-------+------------------+\n",
      "\n"
     ]
    }
   ],
   "source": [
    "# 1. Saber ¿Cuál es el sueldo medio de cada departamento?\n",
    "df_emp.select(\"dept_id\",\"sou\").groupBy(\"dept_id\").avg().orderBy(\"dept_id\").show()"
   ]
  },
  {
   "cell_type": "code",
   "execution_count": 23,
   "metadata": {},
   "outputs": [
    {
     "name": "stdout",
     "output_type": "stream",
     "text": [
      "+------+---------+---------------+------+-------+------+----+\n",
      "|emp_id|      nom|superior_emp_id|data_i|dept_id|genere| sou|\n",
      "+------+---------+---------------+------+-------+------+----+\n",
      "|     1|    Jaime|             -1|  2018|     10|     M|1300|\n",
      "|     2|    Maria|              1|  2010|     20|     F|1400|\n",
      "|     3|     Rosa|              1|  2010|     10|     F|1000|\n",
      "|     5| Leonardo|              2|  2010|     40|     M|1300|\n",
      "|     6|    Paula|              2|  2013|     20|     F|1600|\n",
      "|     7|Jose Luis|              2|  2014|     30|     F|1200|\n",
      "+------+---------+---------------+------+-------+------+----+\n",
      "\n"
     ]
    }
   ],
   "source": [
    "# Eliminar las filas que tengan el campo fecha_inicio a nulo\n",
    "df_emp.na.drop(subset= \"data_i\").show()"
   ]
  },
  {
   "cell_type": "code",
   "execution_count": 17,
   "metadata": {},
   "outputs": [],
   "source": [
    "# 3. A los empleados que tienen más de 10 años de antigüedad se les \n",
    "# va a subir el sueldo al doble calcula con una función UDF el nuevo\n",
    "# sueldo de los empleados y añádelo a una nueva columna Sueldo_nuevofrom pyspark.sql.functions import udf\n",
    "def doble(s):\n",
    "    return 2 * s\n",
    "\n",
    "doble_udf = udf(lambda x: doble(x),IntegerType())"
   ]
  },
  {
   "cell_type": "code",
   "execution_count": 18,
   "metadata": {
    "scrolled": true
   },
   "outputs": [
    {
     "name": "stdout",
     "output_type": "stream",
     "text": [
      "+------+--------+---------------+------+-------+------+----+-------+\n",
      "|emp_id|     nom|superior_emp_id|data_i|dept_id|genere| sou|sou_nou|\n",
      "+------+--------+---------------+------+-------+------+----+-------+\n",
      "|     2|   Maria|              1|  2010|     20|     F|1400|   2800|\n",
      "|     3|    Rosa|              1|  2010|     10|     F|1000|   2000|\n",
      "|     5|Leonardo|              2|  2010|     40|     M|1300|   2600|\n",
      "+------+--------+---------------+------+-------+------+----+-------+\n",
      "\n"
     ]
    }
   ],
   "source": [
    "df_emp.where(df_emp[\"data_i\"] <=\"2011\").withColumn('sou_nou',doble_udf(df_emp['sou'])).show()"
   ]
  },
  {
   "cell_type": "code",
   "execution_count": 12,
   "metadata": {},
   "outputs": [
    {
     "name": "stdout",
     "output_type": "stream",
     "text": [
      "+------+------+---------------+------+-------+------+----+\n",
      "|emp_id|   nom|superior_emp_id|data_i|dept_id|genere| sou|\n",
      "+------+------+---------------+------+-------+------+----+\n",
      "|     4|Vanesa|              2|  null|     10|     F|1800|\n",
      "+------+------+---------------+------+-------+------+----+\n",
      "\n"
     ]
    }
   ],
   "source": [
    "# Exercici 4\n",
    "#Sesnse joins queda molt llarg\n",
    "df_emp.where(df_emp[\"superior_emp_id\"]==(df_emp.where(df_emp['nom']=='Maria').select('emp_id').collect()[0][0])).orderBy(df_emp['sou'].desc()).limit(1).show()"
   ]
  },
  {
   "cell_type": "code",
   "execution_count": 35,
   "metadata": {},
   "outputs": [
    {
     "ename": "SyntaxError",
     "evalue": "invalid syntax (<ipython-input-35-0b2ccb8a2c6b>, line 3)",
     "output_type": "error",
     "traceback": [
      "\u001b[0;36m  File \u001b[0;32m\"<ipython-input-35-0b2ccb8a2c6b>\"\u001b[0;36m, line \u001b[0;32m3\u001b[0m\n\u001b[0;31m    emp1 = df_emp.as(\"emp1\")\u001b[0m\n\u001b[0m                  ^\u001b[0m\n\u001b[0;31mSyntaxError\u001b[0m\u001b[0;31m:\u001b[0m invalid syntax\n"
     ]
    }
   ],
   "source": [
    "\n",
    "#Exercici 4 amb join  NO M'HA FUNCIONAT. DIU QUE EM FAN FALTA ALIAS\n",
    "emp1 = df_emp.alias(\"emp1\")\n",
    "emp2 = df_emp.alias(\"emp2\")\n",
    "emp1.join(emp2,emp1.superior_emp_id==emp2.emp_id,'INNER').show()"
   ]
  },
  {
   "cell_type": "code",
   "execution_count": 14,
   "metadata": {},
   "outputs": [
    {
     "ename": "AnalysisException",
     "evalue": "Temporary view 'emp' already exists",
     "output_type": "error",
     "traceback": [
      "\u001b[0;31m---------------------------------------------------------------------------\u001b[0m",
      "\u001b[0;31mAnalysisException\u001b[0m                         Traceback (most recent call last)",
      "\u001b[0;32m<ipython-input-14-b5c9615f13bd>\u001b[0m in \u001b[0;36m<module>\u001b[0;34m\u001b[0m\n\u001b[1;32m      1\u001b[0m \u001b[0;31m# Exercici 4 me'n vaig a SQL a veure que tal\u001b[0m\u001b[0;34m\u001b[0m\u001b[0;34m\u001b[0m\u001b[0;34m\u001b[0m\u001b[0m\n\u001b[0;32m----> 2\u001b[0;31m \u001b[0mdf_emp\u001b[0m\u001b[0;34m.\u001b[0m\u001b[0mcreateTempView\u001b[0m\u001b[0;34m(\u001b[0m\u001b[0;34m\"emp\"\u001b[0m\u001b[0;34m)\u001b[0m\u001b[0;34m\u001b[0m\u001b[0;34m\u001b[0m\u001b[0m\n\u001b[0m\u001b[1;32m      3\u001b[0m \u001b[0mdf_dep\u001b[0m\u001b[0;34m.\u001b[0m\u001b[0mcreateTempView\u001b[0m\u001b[0;34m(\u001b[0m\u001b[0;34m\"dep\"\u001b[0m\u001b[0;34m)\u001b[0m\u001b[0;34m\u001b[0m\u001b[0;34m\u001b[0m\u001b[0m\n\u001b[1;32m      4\u001b[0m \u001b[0mspark\u001b[0m\u001b[0;34m.\u001b[0m\u001b[0msql\u001b[0m\u001b[0;34m(\u001b[0m\u001b[0;34m\"SELECT emp_id, nom, sou FROM emp INNER JOIN dep ON emp.dept_id=dept.dept_id WHERE nom='Maria' ORDER BY sou DESC LIMIT 1\"\u001b[0m\u001b[0;34m)\u001b[0m\u001b[0;34m.\u001b[0m\u001b[0mshow\u001b[0m\u001b[0;34m(\u001b[0m\u001b[0;34m)\u001b[0m\u001b[0;34m\u001b[0m\u001b[0;34m\u001b[0m\u001b[0m\n",
      "\u001b[0;32m~/Baixades/spark/python/pyspark/sql/dataframe.py\u001b[0m in \u001b[0;36mcreateTempView\u001b[0;34m(self, name)\u001b[0m\n\u001b[1;32m    162\u001b[0m \u001b[0;34m\u001b[0m\u001b[0m\n\u001b[1;32m    163\u001b[0m         \"\"\"\n\u001b[0;32m--> 164\u001b[0;31m         \u001b[0mself\u001b[0m\u001b[0;34m.\u001b[0m\u001b[0m_jdf\u001b[0m\u001b[0;34m.\u001b[0m\u001b[0mcreateTempView\u001b[0m\u001b[0;34m(\u001b[0m\u001b[0mname\u001b[0m\u001b[0;34m)\u001b[0m\u001b[0;34m\u001b[0m\u001b[0;34m\u001b[0m\u001b[0m\n\u001b[0m\u001b[1;32m    165\u001b[0m \u001b[0;34m\u001b[0m\u001b[0m\n\u001b[1;32m    166\u001b[0m     \u001b[0;32mdef\u001b[0m \u001b[0mcreateOrReplaceTempView\u001b[0m\u001b[0;34m(\u001b[0m\u001b[0mself\u001b[0m\u001b[0;34m,\u001b[0m \u001b[0mname\u001b[0m\u001b[0;34m)\u001b[0m\u001b[0;34m:\u001b[0m\u001b[0;34m\u001b[0m\u001b[0;34m\u001b[0m\u001b[0m\n",
      "\u001b[0;32m~/Baixades/spark/python/lib/py4j-0.10.9-src.zip/py4j/java_gateway.py\u001b[0m in \u001b[0;36m__call__\u001b[0;34m(self, *args)\u001b[0m\n\u001b[1;32m   1302\u001b[0m \u001b[0;34m\u001b[0m\u001b[0m\n\u001b[1;32m   1303\u001b[0m         \u001b[0manswer\u001b[0m \u001b[0;34m=\u001b[0m \u001b[0mself\u001b[0m\u001b[0;34m.\u001b[0m\u001b[0mgateway_client\u001b[0m\u001b[0;34m.\u001b[0m\u001b[0msend_command\u001b[0m\u001b[0;34m(\u001b[0m\u001b[0mcommand\u001b[0m\u001b[0;34m)\u001b[0m\u001b[0;34m\u001b[0m\u001b[0;34m\u001b[0m\u001b[0m\n\u001b[0;32m-> 1304\u001b[0;31m         return_value = get_return_value(\n\u001b[0m\u001b[1;32m   1305\u001b[0m             answer, self.gateway_client, self.target_id, self.name)\n\u001b[1;32m   1306\u001b[0m \u001b[0;34m\u001b[0m\u001b[0m\n",
      "\u001b[0;32m~/Baixades/spark/python/pyspark/sql/utils.py\u001b[0m in \u001b[0;36mdeco\u001b[0;34m(*a, **kw)\u001b[0m\n\u001b[1;32m    115\u001b[0m                 \u001b[0;31m# Hide where the exception came from that shows a non-Pythonic\u001b[0m\u001b[0;34m\u001b[0m\u001b[0;34m\u001b[0m\u001b[0;34m\u001b[0m\u001b[0m\n\u001b[1;32m    116\u001b[0m                 \u001b[0;31m# JVM exception message.\u001b[0m\u001b[0;34m\u001b[0m\u001b[0;34m\u001b[0m\u001b[0;34m\u001b[0m\u001b[0m\n\u001b[0;32m--> 117\u001b[0;31m                 \u001b[0;32mraise\u001b[0m \u001b[0mconverted\u001b[0m \u001b[0;32mfrom\u001b[0m \u001b[0;32mNone\u001b[0m\u001b[0;34m\u001b[0m\u001b[0;34m\u001b[0m\u001b[0m\n\u001b[0m\u001b[1;32m    118\u001b[0m             \u001b[0;32melse\u001b[0m\u001b[0;34m:\u001b[0m\u001b[0;34m\u001b[0m\u001b[0;34m\u001b[0m\u001b[0m\n\u001b[1;32m    119\u001b[0m                 \u001b[0;32mraise\u001b[0m\u001b[0;34m\u001b[0m\u001b[0;34m\u001b[0m\u001b[0m\n",
      "\u001b[0;31mAnalysisException\u001b[0m: Temporary view 'emp' already exists"
     ]
    }
   ],
   "source": [
    "# Exercici 4 me'n vaig a SQL a veure que tal\n",
    "df_emp.createTempView(\"emp\")\n",
    "df_dep.createTempView(\"dep\")"
   ]
  },
  {
   "cell_type": "code",
   "execution_count": 17,
   "metadata": {},
   "outputs": [
    {
     "name": "stdout",
     "output_type": "stream",
     "text": [
      "+------+------+----+\n",
      "|emp_id|   nom| sou|\n",
      "+------+------+----+\n",
      "|     4|Vanesa|1800|\n",
      "+------+------+----+\n",
      "\n"
     ]
    }
   ],
   "source": [
    "spark.sql(\"SELECT e1.emp_id, e1.nom, e1.sou FROM emp e1 INNER JOIN emp e2 ON e1.superior_emp_id=e2.emp_id WHERE e2.nom='Maria' ORDER BY e1.sou DESC LIMIT 1\").show()"
   ]
  },
  {
   "cell_type": "code",
   "execution_count": 15,
   "metadata": {},
   "outputs": [],
   "source": [
    "# 5. Crea una vista que se pueda acceder a ella desde otra sesión que muestre el total que se gasta en sueldos por departamentos\n",
    "df_emp.join(df_dep,df_emp.dept_id==df_dep.dept_id,'INNER').select('dept_nom','sou').groupBy('dept_nom').sum().createGlobalTempView(\"Departaments\")"
   ]
  },
  {
   "cell_type": "code",
   "execution_count": 17,
   "metadata": {},
   "outputs": [
    {
     "name": "stdout",
     "output_type": "stream",
     "text": [
      "+----------+--------+\n",
      "|  dept_nom|sum(sou)|\n",
      "+----------+--------+\n",
      "|    Ventas|    1200|\n",
      "| Marketing|    3000|\n",
      "|Financiero|    4100|\n",
      "|Desarrollo|    1300|\n",
      "+----------+--------+\n",
      "\n"
     ]
    }
   ],
   "source": [
    "spark.sql(\"Select * from global_temp.Departaments\").show()"
   ]
  },
  {
   "cell_type": "code",
   "execution_count": 7,
   "metadata": {},
   "outputs": [],
   "source": [
    "# 6. Se acaba de contratar una jefa de ventas, llamada Elena Martínez,\n",
    "# va a cobrar 1700, necesitamos añadirla a nuestra base de datos \n",
    "df_emp_nova = spark.createDataFrame([(8,\"Elena Martínez\",-1,\"2021\",\"30\",\"F\",1700)],schema=est_emp)"
   ]
  },
  {
   "cell_type": "code",
   "execution_count": 8,
   "metadata": {},
   "outputs": [
    {
     "name": "stdout",
     "output_type": "stream",
     "text": [
      "+------+--------------+---------------+------+-------+------+----+\n",
      "|emp_id|           nom|superior_emp_id|data_i|dept_id|genere| sou|\n",
      "+------+--------------+---------------+------+-------+------+----+\n",
      "|     8|Elena Martínez|             -1|  2021|     30|     F|1700|\n",
      "+------+--------------+---------------+------+-------+------+----+\n",
      "\n"
     ]
    }
   ],
   "source": [
    "df_emp_nova.show()"
   ]
  },
  {
   "cell_type": "code",
   "execution_count": 11,
   "metadata": {},
   "outputs": [],
   "source": [
    "df_emp = df_emp.union(df_emp_nova)"
   ]
  },
  {
   "cell_type": "code",
   "execution_count": 12,
   "metadata": {},
   "outputs": [
    {
     "name": "stdout",
     "output_type": "stream",
     "text": [
      "+------+--------------+---------------+------+-------+------+----+\n",
      "|emp_id|           nom|superior_emp_id|data_i|dept_id|genere| sou|\n",
      "+------+--------------+---------------+------+-------+------+----+\n",
      "|     1|         Jaime|             -1|  2018|     10|     M|1300|\n",
      "|     2|         Maria|              1|  2010|     20|     F|1400|\n",
      "|     3|          Rosa|              1|  2010|     10|     F|1000|\n",
      "|     4|        Vanesa|              2|  null|     10|     F|1800|\n",
      "|     5|      Leonardo|              2|  2010|     40|     M|1300|\n",
      "|     6|         Paula|              2|  2013|     20|     F|1600|\n",
      "|     7|     Jose Luis|              2|  2014|     30|     F|1200|\n",
      "|     8|Elena Martínez|             -1|  2021|     30|     F|1700|\n",
      "+------+--------------+---------------+------+-------+------+----+\n",
      "\n"
     ]
    }
   ],
   "source": [
    "df_emp.show()"
   ]
  },
  {
   "cell_type": "code",
   "execution_count": null,
   "metadata": {},
   "outputs": [],
   "source": []
  }
 ],
 "metadata": {
  "kernelspec": {
   "display_name": "Python 3",
   "language": "python",
   "name": "python3"
  },
  "language_info": {
   "codemirror_mode": {
    "name": "ipython",
    "version": 3
   },
   "file_extension": ".py",
   "mimetype": "text/x-python",
   "name": "python",
   "nbconvert_exporter": "python",
   "pygments_lexer": "ipython3",
   "version": "3.8.5"
  }
 },
 "nbformat": 4,
 "nbformat_minor": 4
}
