{
 "cells": [
  {
   "cell_type": "code",
   "execution_count": 2,
   "metadata": {},
   "outputs": [],
   "source": [
    "#Primero vamos a importar todo lo necesario\n",
    "\n",
    "import findspark\n",
    "findspark.init()\n",
    "findspark.find()\n",
    "import pyspark\n",
    "from pyspark.sql import SparkSession\n",
    "spark = SparkSession.builder.appName('regresion').getOrCreate()\n",
    "\n",
    "#Para trabajar con ml y regresiones lineales tenemos que importar esto:\n",
    "from pyspark.ml.regression import LinearRegression"
   ]
  },
  {
   "cell_type": "code",
   "execution_count": 3,
   "metadata": {},
   "outputs": [],
   "source": [
    "#Importamos nuestros datos de clientes, en este caso vamos a importar un csv con la informacion\n",
    "#usamos inferschema para que nos coja el tipo de dato y header true para que nos cree las cabeceras\n",
    "datos = spark.read.csv(\"customers.csv\",inferSchema = True,header = True)"
   ]
  },
  {
   "cell_type": "code",
   "execution_count": 4,
   "metadata": {},
   "outputs": [
    {
     "name": "stdout",
     "output_type": "stream",
     "text": [
      "root\n",
      " |-- Email: string (nullable = true)\n",
      " |-- Address: string (nullable = true)\n",
      " |-- Avatar: string (nullable = true)\n",
      " |-- Avg Session Length: double (nullable = true)\n",
      " |-- Time on App: double (nullable = true)\n",
      " |-- Time on Website: double (nullable = true)\n",
      " |-- Length of Membership: double (nullable = true)\n",
      " |-- Yearly Amount Spent: double (nullable = true)\n",
      "\n"
     ]
    }
   ],
   "source": [
    "#Vamos a ver los campos del csv\n",
    "datos.printSchema()"
   ]
  },
  {
   "cell_type": "code",
   "execution_count": 5,
   "metadata": {},
   "outputs": [
    {
     "name": "stdout",
     "output_type": "stream",
     "text": [
      "+--------------------+--------------------+----------------+------------------+------------------+------------------+--------------------+-------------------+\n",
      "|               Email|             Address|          Avatar|Avg Session Length|       Time on App|   Time on Website|Length of Membership|Yearly Amount Spent|\n",
      "+--------------------+--------------------+----------------+------------------+------------------+------------------+--------------------+-------------------+\n",
      "|mstephenson@ferna...|835 Frank TunnelW...|          Violet| 34.49726772511229| 12.65565114916675| 39.57766801952616|  4.0826206329529615|  587.9510539684005|\n",
      "|   hduke@hotmail.com|4547 Archer Commo...|       DarkGreen| 31.92627202636016|11.109460728682564|37.268958868297744|    2.66403418213262|  392.2049334443264|\n",
      "|    pallen@yahoo.com|24645 Valerie Uni...|          Bisque|33.000914755642675|11.330278057777512|37.110597442120856|   4.104543202376424| 487.54750486747207|\n",
      "|riverarebecca@gma...|1414 David Throug...|     SaddleBrown| 34.30555662975554|13.717513665142507| 36.72128267790313|   3.120178782748092|  581.8523440352177|\n",
      "|mstephens@davidso...|14023 Rodriguez P...|MediumAquaMarine| 33.33067252364639|12.795188551078114| 37.53665330059473|   4.446308318351434|  599.4060920457634|\n",
      "|alvareznancy@luca...|645 Martha Park A...|     FloralWhite|33.871037879341976|12.026925339755056| 34.47687762925054|   5.493507201364199|   637.102447915074|\n",
      "|katherine20@yahoo...|68388 Reyes Light...|   DarkSlateBlue| 32.02159550138701|11.366348309710526| 36.68377615286961|   4.685017246570912|  521.5721747578274|\n",
      "|  awatkins@yahoo.com|Unit 6538 Box 898...|            Aqua|32.739142938380326| 12.35195897300293| 37.37335885854755|  4.4342734348999375|  549.9041461052942|\n",
      "|vchurch@walter-ma...|860 Lee KeyWest D...|          Salmon| 33.98777289568564|13.386235275676436|37.534497341555735|  3.2734335777477144|  570.2004089636196|\n",
      "|    bonnie69@lin.biz|PSC 2734, Box 525...|           Brown|31.936548618448917|11.814128294972196| 37.14516822352819|   3.202806071553459|  427.1993848953282|\n",
      "|andrew06@peterson...|26104 Alexander G...|          Tomato|33.992572774953736|13.338975447662113| 37.22580613162114|   2.482607770510596|  492.6060127179966|\n",
      "|ryanwerner@freema...|Unit 2413 Box 034...|          Tomato| 33.87936082480498|11.584782999535266| 37.08792607098381|    3.71320920294043|  522.3374046069357|\n",
      "|   knelson@gmail.com|6705 Miller Orcha...|       RoyalBlue|29.532428967057943|10.961298400154098| 37.42021557502538|   4.046423164299585|  408.6403510726275|\n",
      "|wrightpeter@yahoo...|05302 Dunlap Ferr...|          Bisque| 33.19033404372265|12.959226091609382|36.144666700041924|   3.918541839158999|  573.4158673313865|\n",
      "|taylormason@gmail...|7773 Powell Sprin...|        DarkBlue|32.387975853153876|13.148725692056516| 36.61995708279922|   2.494543646659249|  470.4527333009554|\n",
      "| jstark@anderson.com|49558 Ramirez Roa...|            Peru|30.737720372628182|12.636606052000127|36.213763093698624|  3.3578468423262944|  461.7807421962299|\n",
      "| wjennings@gmail.com|6362 Wilson Mount...|      PowderBlue| 32.12538689728784|11.733861690857394|  34.8940927514398|  3.1361327164897803| 457.84769594494855|\n",
      "|rebecca45@hale-ba...|8982 Burton RowWi...|       OliveDrab|32.338899323067196|12.013194694014402| 38.38513659413844|   2.420806160901484| 407.70454754954415|\n",
      "|alejandro75@hotma...|64475 Andre Club ...|            Cyan|32.187812045932155|  14.7153875441565| 38.24411459434352|   1.516575580831944|  452.3156754800354|\n",
      "|samuel46@love-wes...|544 Alexander Hei...|   LightSeaGreen| 32.61785606282345|13.989592555825254|37.190503800397956|   4.064548550437977|   605.061038804892|\n",
      "+--------------------+--------------------+----------------+------------------+------------------+------------------+--------------------+-------------------+\n",
      "only showing top 20 rows\n",
      "\n"
     ]
    }
   ],
   "source": [
    "#vemos que tenemos email, direccion, la duracion media de la sesion , tiempo en la aplicacion,tiempo en la web,\n",
    "#el tiempo que lleva activa la cuenta, y cuanto ha gastado en el año\n",
    "\n",
    "#si vemos los datos:\n",
    "datos.show()# asi no se ve muy bien vemos mejor con head"
   ]
  },
  {
   "cell_type": "code",
   "execution_count": 6,
   "metadata": {},
   "outputs": [
    {
     "data": {
      "text/plain": [
       "[Row(Email='mstephenson@fernandez.com', Address='835 Frank TunnelWrightmouth, MI 82180-9605', Avatar='Violet', Avg Session Length=34.49726772511229, Time on App=12.65565114916675, Time on Website=39.57766801952616, Length of Membership=4.0826206329529615, Yearly Amount Spent=587.9510539684005),\n",
       " Row(Email='hduke@hotmail.com', Address='4547 Archer CommonDiazchester, CA 06566-8576', Avatar='DarkGreen', Avg Session Length=31.92627202636016, Time on App=11.109460728682564, Time on Website=37.268958868297744, Length of Membership=2.66403418213262, Yearly Amount Spent=392.2049334443264)]"
      ]
     },
     "execution_count": 6,
     "metadata": {},
     "output_type": "execute_result"
    }
   ],
   "source": [
    "datos.head(2)"
   ]
  },
  {
   "cell_type": "code",
   "execution_count": 7,
   "metadata": {},
   "outputs": [],
   "source": [
    "#vemos todos los datos, y el que vamos a querer predecir es el Yeaarly Amount Spent, que es lo que se gasta al año\n",
    "\n",
    "\n",
    "#Debemos saber que para trabajar, el modelo va a necesiar un formato concreto que es de tipo vector que necesita spark\n",
    "#para trbajar, esto lo vamos a conseguir \n",
    "#usando lo que se llama Assembler\n",
    "\n",
    "#vamos a crear un Assembler el cual nos permite crear el formato que necesita el modelo para trabajar \n",
    "#con spark(formato de vector)\n",
    "from pyspark.ml.linalg import Vectors\n",
    "from pyspark.ml.feature import VectorAssembler"
   ]
  },
  {
   "cell_type": "code",
   "execution_count": 8,
   "metadata": {},
   "outputs": [
    {
     "data": {
      "text/plain": [
       "['Email',\n",
       " 'Address',\n",
       " 'Avatar',\n",
       " 'Avg Session Length',\n",
       " 'Time on App',\n",
       " 'Time on Website',\n",
       " 'Length of Membership',\n",
       " 'Yearly Amount Spent']"
      ]
     },
     "execution_count": 8,
     "metadata": {},
     "output_type": "execute_result"
    }
   ],
   "source": [
    "#vemos nuestras columnas:\n",
    "datos.columns"
   ]
  },
  {
   "cell_type": "code",
   "execution_count": 9,
   "metadata": {},
   "outputs": [],
   "source": [
    "#y vamos a crear nuestro Assembler\n",
    "#Crearemos con la funcion que acabamos de importar, añadimos en el inputCols las columnas que queremos que esten en nuestro vector:\n",
    "#y el segundo elemento que es outputCols que se va a llamar features\n",
    "assembler = VectorAssembler(inputCols = ['Avg Session Length', 'Time on App', 'Time on Website','Length of Membership'],\n",
    "                            outputCol='features')\n",
    "\n"
   ]
  },
  {
   "cell_type": "code",
   "execution_count": 10,
   "metadata": {},
   "outputs": [],
   "source": [
    "#vamos a crear un output utilizando el assembles que acabamos de crear y transform usando los datos,para teenr los datos como\n",
    "#necesitamos\n",
    "output = assembler.transform(datos)"
   ]
  },
  {
   "cell_type": "code",
   "execution_count": 11,
   "metadata": {},
   "outputs": [
    {
     "name": "stdout",
     "output_type": "stream",
     "text": [
      "root\n",
      " |-- Email: string (nullable = true)\n",
      " |-- Address: string (nullable = true)\n",
      " |-- Avatar: string (nullable = true)\n",
      " |-- Avg Session Length: double (nullable = true)\n",
      " |-- Time on App: double (nullable = true)\n",
      " |-- Time on Website: double (nullable = true)\n",
      " |-- Length of Membership: double (nullable = true)\n",
      " |-- Yearly Amount Spent: double (nullable = true)\n",
      " |-- features: vector (nullable = true)\n",
      "\n"
     ]
    }
   ],
   "source": [
    "#si vemos los datos y ahcemos printschema vemos que tenemos una columna nueva llamada features\n",
    "output.printSchema()"
   ]
  },
  {
   "cell_type": "code",
   "execution_count": 12,
   "metadata": {},
   "outputs": [
    {
     "data": {
      "text/plain": [
       "[Row(Email='mstephenson@fernandez.com', Address='835 Frank TunnelWrightmouth, MI 82180-9605', Avatar='Violet', Avg Session Length=34.49726772511229, Time on App=12.65565114916675, Time on Website=39.57766801952616, Length of Membership=4.0826206329529615, Yearly Amount Spent=587.9510539684005, features=DenseVector([34.4973, 12.6557, 39.5777, 4.0826]))]"
      ]
     },
     "execution_count": 12,
     "metadata": {},
     "output_type": "execute_result"
    }
   ],
   "source": [
    "#vemos que se nos ha creado la colulmna features, y \n",
    "#si vemos lo que tiene esata columna debe de tener un vector con los datos que le hemos pasado: \n",
    "#los de media de la sesion, tiempo etc... los que vamos a usar en nuestra regresion lineal \n",
    "output.head(1)"
   ]
  },
  {
   "cell_type": "code",
   "execution_count": 13,
   "metadata": {},
   "outputs": [],
   "source": [
    "#vemos que ha creado el vector con los valores que hemos pasado y lo ha metido en la columna features"
   ]
  },
  {
   "cell_type": "code",
   "execution_count": 14,
   "metadata": {},
   "outputs": [],
   "source": [
    "#vamos a coger los datos finales:\n",
    "#que son el evctor que hemos creado que sera lo que nos ayude a predecir, y lo que queremos predecir que es el Yearly Amount Spent\n",
    "datos_finales = output.select('features','Yearly Amount Spent')"
   ]
  },
  {
   "cell_type": "code",
   "execution_count": 15,
   "metadata": {},
   "outputs": [
    {
     "name": "stdout",
     "output_type": "stream",
     "text": [
      "+--------------------+-------------------+\n",
      "|            features|Yearly Amount Spent|\n",
      "+--------------------+-------------------+\n",
      "|[34.4972677251122...|  587.9510539684005|\n",
      "|[31.9262720263601...|  392.2049334443264|\n",
      "|[33.0009147556426...| 487.54750486747207|\n",
      "|[34.3055566297555...|  581.8523440352177|\n",
      "|[33.3306725236463...|  599.4060920457634|\n",
      "|[33.8710378793419...|   637.102447915074|\n",
      "|[32.0215955013870...|  521.5721747578274|\n",
      "|[32.7391429383803...|  549.9041461052942|\n",
      "|[33.9877728956856...|  570.2004089636196|\n",
      "|[31.9365486184489...|  427.1993848953282|\n",
      "|[33.9925727749537...|  492.6060127179966|\n",
      "|[33.8793608248049...|  522.3374046069357|\n",
      "|[29.5324289670579...|  408.6403510726275|\n",
      "|[33.1903340437226...|  573.4158673313865|\n",
      "|[32.3879758531538...|  470.4527333009554|\n",
      "|[30.7377203726281...|  461.7807421962299|\n",
      "|[32.1253868972878...| 457.84769594494855|\n",
      "|[32.3388993230671...| 407.70454754954415|\n",
      "|[32.1878120459321...|  452.3156754800354|\n",
      "|[32.6178560628234...|   605.061038804892|\n",
      "+--------------------+-------------------+\n",
      "only showing top 20 rows\n",
      "\n"
     ]
    }
   ],
   "source": [
    "datos_finales.show()"
   ]
  },
  {
   "cell_type": "code",
   "execution_count": 16,
   "metadata": {},
   "outputs": [],
   "source": [
    "#Entocnes a partir de estos datos hacemos un train y un test usando randomSplit, le vamos a dar 0,7 y 0,3\n",
    "train, test = datos_finales.randomSplit([0.7,0.3])\n",
    "#lo que estamos haciendo aqui es coger el 70% de los datos para entrenar el modelo y un 30 para testear el modelo"
   ]
  },
  {
   "cell_type": "code",
   "execution_count": 17,
   "metadata": {},
   "outputs": [
    {
     "name": "stdout",
     "output_type": "stream",
     "text": [
      "+-------+-------------------+\n",
      "|summary|Yearly Amount Spent|\n",
      "+-------+-------------------+\n",
      "|  count|                354|\n",
      "|   mean| 496.25968353126103|\n",
      "| stddev|  78.68652306131044|\n",
      "|    min| 256.67058229005585|\n",
      "|    max|  765.5184619388373|\n",
      "+-------+-------------------+\n",
      "\n"
     ]
    }
   ],
   "source": [
    "#vamos a ver train..\n",
    "#vemos que tenemos 355 registros\n",
    "\n",
    "train.describe().show()\n"
   ]
  },
  {
   "cell_type": "code",
   "execution_count": 18,
   "metadata": {},
   "outputs": [
    {
     "name": "stdout",
     "output_type": "stream",
     "text": [
      "+-------+-------------------+\n",
      "|summary|Yearly Amount Spent|\n",
      "+-------+-------------------+\n",
      "|  count|                146|\n",
      "|   mean| 506.71980246047167|\n",
      "| stddev|  80.60943345005087|\n",
      "|    min| 327.37795258965207|\n",
      "|    max|  725.5848140556806|\n",
      "+-------+-------------------+\n",
      "\n"
     ]
    }
   ],
   "source": [
    "#vemos que en test tenemos 145 registros\n",
    "test.describe().show()"
   ]
  },
  {
   "cell_type": "code",
   "execution_count": 19,
   "metadata": {},
   "outputs": [],
   "source": [
    "#Vamos a entrenar el modelo con train y evaluar el modelo con test\n",
    "\n",
    "#Entonces vamos a crear una regresion lineal pasandole features que son los datos que vamos a usar para entrenar y\n",
    "#El dato que queremos calcular en este caso el yearly amount Spent, y por ultimo añadiremos una columna de prediccion que\n",
    "#sera el resultado que vamos a obtener"
   ]
  },
  {
   "cell_type": "code",
   "execution_count": 20,
   "metadata": {},
   "outputs": [],
   "source": [
    "\n",
    "lr = LinearRegression(featuresCol = 'features',labelCol = 'Yearly Amount Spent',predictionCol = 'prediction')\n",
    "#si por defento tienen los nombres features y label no hace falta indicarle el nombre, pero como aqui se \n",
    "#llama Yearly... se lo pasamos"
   ]
  },
  {
   "cell_type": "code",
   "execution_count": 21,
   "metadata": {},
   "outputs": [],
   "source": [
    "lr_modelo = lr.fit(train) #Creamos el modelo con lr.fit() y le pasamos los datos de entrenamiento"
   ]
  },
  {
   "cell_type": "code",
   "execution_count": 22,
   "metadata": {},
   "outputs": [],
   "source": [
    "resultado = lr_modelo.evaluate(test) #Evaluamos los datos test"
   ]
  },
  {
   "cell_type": "code",
   "execution_count": 23,
   "metadata": {},
   "outputs": [
    {
     "name": "stdout",
     "output_type": "stream",
     "text": [
      "+-------------------+\n",
      "|          residuals|\n",
      "+-------------------+\n",
      "|  8.178019986211666|\n",
      "|-11.662579206420503|\n",
      "|0.28375387925063933|\n",
      "|  23.88033922548516|\n",
      "|  5.328554360332532|\n",
      "| 1.5247878290938388|\n",
      "| -4.585938823420406|\n",
      "|  5.016282615349667|\n",
      "|   17.7858835593359|\n",
      "| -1.585812084553197|\n",
      "|-3.2538229452102883|\n",
      "|-16.324447019822003|\n",
      "| 1.3243068169010712|\n",
      "|  8.979596065303951|\n",
      "| -16.35742247597409|\n",
      "| -3.271236363257799|\n",
      "|   4.72471901011221|\n",
      "|  5.612109941364338|\n",
      "| 7.1134779211603245|\n",
      "|  23.82819269785142|\n",
      "+-------------------+\n",
      "only showing top 20 rows\n",
      "\n"
     ]
    }
   ],
   "source": [
    "resultado.residuals.show() #esto es lo que se ha equivocado por prediccion, el residual"
   ]
  },
  {
   "cell_type": "code",
   "execution_count": 24,
   "metadata": {},
   "outputs": [
    {
     "data": {
      "text/plain": [
       "10.522935932789585"
      ]
     },
     "execution_count": 24,
     "metadata": {},
     "output_type": "execute_result"
    }
   ],
   "source": [
    "resultado.rootMeanSquaredError #Es en lo que se ha equivocado, pro lo que si los precios son de 400 500 dolares, se esta\n",
    "#equivocando en unos 9 dolares, por lo que es una muy buena prediccion\n",
    "#Si el valor que tenemos que calcular es 9 y el error nos da 9, pues obviamente es muy mal resultado pero en neustro caso\n",
    "#que son valores altos, 9 es muy poco"
   ]
  },
  {
   "cell_type": "code",
   "execution_count": 25,
   "metadata": {},
   "outputs": [
    {
     "data": {
      "text/plain": [
       "0.9828411977757786"
      ]
     },
     "execution_count": 25,
     "metadata": {},
     "output_type": "execute_result"
    }
   ],
   "source": [
    "resultado.r2 #es un 0.98 que es muy bueno, siendo el maximo de acuierto 1, este nos esta dando un 0.98"
   ]
  },
  {
   "cell_type": "code",
   "execution_count": 26,
   "metadata": {},
   "outputs": [],
   "source": [
    "#Podemos hacer un sumary y ver las predicciones:\n",
    "summary = lr_modelo.summary"
   ]
  },
  {
   "cell_type": "code",
   "execution_count": 27,
   "metadata": {},
   "outputs": [
    {
     "name": "stdout",
     "output_type": "stream",
     "text": [
      "+--------------------+-------------------+------------------+\n",
      "|            features|Yearly Amount Spent|        prediction|\n",
      "+--------------------+-------------------+------------------+\n",
      "|[29.5324289670579...|  408.6403510726275| 396.2129552626909|\n",
      "|[30.3931845423455...|  319.9288698031936| 330.7251777036697|\n",
      "|[30.4925366965402...|  282.4712457199145| 287.1825725547285|\n",
      "|[30.5743636841713...| 442.06441375806565| 440.3762661797134|\n",
      "|[30.7377203726281...|  461.7807421962299|449.70867929914334|\n",
      "|[30.8162006488763...|   266.086340948469| 282.6664667274133|\n",
      "|[30.8364326747734...|  467.5019004269896|470.24814039939565|\n",
      "|[30.8794843441274...|  490.2065999848547|492.21998777593853|\n",
      "|[31.0472221394875...|  392.4973991890214|386.77926727686736|\n",
      "|[31.0613251567161...|  487.5554580579016|  492.245354616555|\n",
      "|[31.1239743499119...|  486.9470538397658|507.06124817285877|\n",
      "|[31.1280900496166...|  557.2526867470547| 562.4946330032003|\n",
      "|[31.1695067987115...|  427.3565308022928|416.07943078351013|\n",
      "|[31.2681042107507...|  423.4705331738239|426.60481489817926|\n",
      "|[31.3091926408918...|  432.7207178399336|428.90727593277074|\n",
      "|[31.3123495994443...|  463.5914180279406|443.30478342340825|\n",
      "|[31.3662121671876...|  430.5888825564849| 425.9061480940511|\n",
      "|[31.4252268808548...|  530.7667186547619| 533.0027416017085|\n",
      "|[31.4459724827577...| 484.87696493512857| 480.5407962121369|\n",
      "|[31.4474464941278...|   418.602742095224|  425.332599466542|\n",
      "+--------------------+-------------------+------------------+\n",
      "only showing top 20 rows\n",
      "\n"
     ]
    }
   ],
   "source": [
    "summary.predictions.show()"
   ]
  },
  {
   "cell_type": "code",
   "execution_count": 28,
   "metadata": {},
   "outputs": [],
   "source": [
    "#Como vemos se acercan bastante al resultado original"
   ]
  },
  {
   "cell_type": "code",
   "execution_count": null,
   "metadata": {},
   "outputs": [],
   "source": []
  }
 ],
 "metadata": {
  "kernelspec": {
   "display_name": "Python 3",
   "language": "python",
   "name": "python3"
  },
  "language_info": {
   "codemirror_mode": {
    "name": "ipython",
    "version": 3
   },
   "file_extension": ".py",
   "mimetype": "text/x-python",
   "name": "python",
   "nbconvert_exporter": "python",
   "pygments_lexer": "ipython3",
   "version": "3.8.5"
  }
 },
 "nbformat": 4,
 "nbformat_minor": 4
}
